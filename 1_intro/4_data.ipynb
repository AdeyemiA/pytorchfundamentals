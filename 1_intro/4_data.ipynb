{
 "metadata": {
  "language_info": {
   "codemirror_mode": {
    "name": "ipython",
    "version": 3
   },
   "file_extension": ".py",
   "mimetype": "text/x-python",
   "name": "python",
   "nbconvert_exporter": "python",
   "pygments_lexer": "ipython3",
   "version": "3.6.12-final"
  },
  "orig_nbformat": 2,
  "kernelspec": {
   "name": "python3",
   "display_name": "Python 3",
   "language": "python"
  }
 },
 "nbformat": 4,
 "nbformat_minor": 2,
 "cells": [
  {
   "cell_type": "code",
   "execution_count": 1,
   "metadata": {},
   "outputs": [],
   "source": [
    "import torch\n",
    "from torch.utils.data import DataLoader\n",
    "from torch.utils.data.dataset import Dataset\n",
    "from torchvision import datasets, transforms"
   ]
  },
  {
   "source": [
    "# DataSet"
   ],
   "cell_type": "markdown",
   "metadata": {}
  },
  {
   "cell_type": "code",
   "execution_count": 2,
   "metadata": {},
   "outputs": [],
   "source": [
    "class SquareDataset(Dataset):\n",
    "    def __init__(self, size):\n",
    "        self.size = size\n",
    "        self.X = torch.randint(255, (size, 9), dtype=torch.float)\n",
    "\n",
    "        real_w = torch.tensor([[1,1,1,0,0,0,0,0,0],\n",
    "                               [0,0,0,1,1,1,0,0,0],\n",
    "                               [0,0,0,0,0,0,1,1,1]], \n",
    "                               dtype=torch.float)\n",
    "\n",
    "        y = torch.argmax(self.X.mm(real_w.t()), 1)\n",
    "        \n",
    "        self.Y = torch.zeros(size, 3, dtype=torch.float) \\\n",
    "                      .scatter_(1, y.view(-1, 1), 1)\n",
    "\n",
    "    def __getitem__(self, index):\n",
    "        return (self.X[index], self.Y[index])\n",
    "\n",
    "    def __len__(self):\n",
    "        return self.size"
   ]
  },
  {
   "cell_type": "code",
   "execution_count": 3,
   "metadata": {},
   "outputs": [
    {
     "output_type": "stream",
     "name": "stdout",
     "text": [
      "(tensor([132.,  82.,  47., 101., 161., 133.,  35., 181., 244.]), tensor([0., 0., 1.]))\n(tensor([159., 159., 174., 139.,  43., 216.,  80., 136., 226.]), tensor([1., 0., 0.]))\n(tensor([ 93.,  87.,  64., 254., 225., 152., 131.,  28., 175.]), tensor([0., 1., 0.]))\n"
     ]
    }
   ],
   "source": [
    "squares = SquareDataset(256)\n",
    "print(squares[34])\n",
    "print(squares[254])\n",
    "print(squares[25])"
   ]
  },
  {
   "cell_type": "code",
   "execution_count": 4,
   "metadata": {},
   "outputs": [
    {
     "output_type": "stream",
     "name": "stdout",
     "text": [
      "tensor([[179., 168., 174.,   5.,  78., 103., 196., 214., 210.],\n        [133., 161., 190.,   5., 227., 245., 189., 152.,  22.],\n        [170.,  36.,  14., 175., 111.,  13., 144., 118., 105.],\n        [ 29., 224., 220., 203., 132.,  96.,  24., 215., 164.],\n        [141., 254.,  92., 203., 152., 171.,  32., 253.,  97.]]) \n\n tensor([[0., 0., 1.],\n        [1., 0., 0.],\n        [0., 0., 1.],\n        [1., 0., 0.],\n        [0., 1., 0.]])\n"
     ]
    }
   ],
   "source": [
    "dataloader = DataLoader(squares, batch_size=5)\n",
    "\n",
    "for batch, (X, Y) in enumerate(dataloader):\n",
    "    print(X, '\\n\\n', Y)\n",
    "    break"
   ]
  },
  {
   "cell_type": "code",
   "execution_count": null,
   "metadata": {},
   "outputs": [],
   "source": []
  }
 ]
}