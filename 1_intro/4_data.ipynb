{
 "cells": [
  {
   "cell_type": "code",
   "execution_count": 1,
   "metadata": {},
   "outputs": [],
   "source": [
    "import torch\n",
    "from torch.utils.data import DataLoader\n",
    "from torch.utils.data.dataset import Dataset\n",
    "from torchvision import datasets, transforms"
   ]
  },
  {
   "cell_type": "markdown",
   "metadata": {},
   "source": [
    "# DataSet"
   ]
  },
  {
   "cell_type": "code",
   "execution_count": 2,
   "metadata": {},
   "outputs": [],
   "source": [
    "class SquareDataset(Dataset):\n",
    "    def __init__(self, size):\n",
    "        self.size = size\n",
    "        self.X = torch.randint(255, (size, 9), dtype=torch.float)\n",
    "\n",
    "        real_w = torch.tensor([[1,1,1,0,0,0,0,0,0],\n",
    "                               [0,0,0,1,1,1,0,0,0],\n",
    "                               [0,0,0,0,0,0,1,1,1]], \n",
    "                               dtype=torch.float)\n",
    "\n",
    "        y = torch.argmax(self.X.mm(real_w.t()), 1)\n",
    "        \n",
    "        self.Y = torch.zeros(size, 3, dtype=torch.float) \\\n",
    "                      .scatter_(1, y.view(-1, 1), 1)\n",
    "\n",
    "    def __getitem__(self, index):\n",
    "        return (self.X[index], self.Y[index])\n",
    "\n",
    "    def __len__(self):\n",
    "        return self.size"
   ]
  },
  {
   "cell_type": "code",
   "execution_count": 3,
   "metadata": {},
   "outputs": [
    {
     "name": "stdout",
     "output_type": "stream",
     "text": [
      "(tensor([ 21.,  31., 235., 196., 169.,  30.,  12.,  87., 242.]), tensor([0., 1., 0.]))\n",
      "(tensor([ 35.,  49., 248., 190., 154., 160., 207.,  89.,  28.]), tensor([0., 1., 0.]))\n",
      "(tensor([183.,  18., 240., 199.,  84., 139., 171., 128., 246.]), tensor([0., 0., 1.]))\n"
     ]
    }
   ],
   "source": [
    "squares = SquareDataset(256)\n",
    "print(squares[34])\n",
    "print(squares[254])\n",
    "print(squares[25])"
   ]
  },
  {
   "cell_type": "code",
   "execution_count": 4,
   "metadata": {},
   "outputs": [
    {
     "name": "stdout",
     "output_type": "stream",
     "text": [
      "tensor([[161., 227.,  90., 174., 200., 200.,  36., 204., 231.],\n",
      "        [135.,  95.,  41.,  67., 214.,  62., 146., 123.,  41.],\n",
      "        [169.,  38.,  10., 237.,  70., 220., 215., 125.,  98.],\n",
      "        [  8.,  27.,   8.,  56., 237.,  92.,  40.,  15., 128.],\n",
      "        [136., 250., 224., 227., 155.,  32., 178., 118., 236.]]) \n",
      "\n",
      " tensor([[0., 1., 0.],\n",
      "        [0., 1., 0.],\n",
      "        [0., 1., 0.],\n",
      "        [0., 1., 0.],\n",
      "        [1., 0., 0.]])\n"
     ]
    }
   ],
   "source": [
    "dataloader = DataLoader(squares, batch_size=5)\n",
    "\n",
    "for batch, (X, Y) in enumerate(dataloader):\n",
    "    print(X, '\\n\\n', Y)\n",
    "    break"
   ]
  },
  {
   "cell_type": "code",
   "execution_count": 7,
   "metadata": {},
   "outputs": [
    {
     "name": "stdout",
     "output_type": "stream",
     "text": [
      "tensor([[161., 227.,  90., 174., 200., 200.,  36., 204., 231.],\n",
      "        [135.,  95.,  41.,  67., 214.,  62., 146., 123.,  41.],\n",
      "        [169.,  38.,  10., 237.,  70., 220., 215., 125.,  98.],\n",
      "        [  8.,  27.,   8.,  56., 237.,  92.,  40.,  15., 128.],\n",
      "        [136., 250., 224., 227., 155.,  32., 178., 118., 236.]])\n",
      "tensor([[0., 1., 0.],\n",
      "        [0., 1., 0.],\n",
      "        [0., 1., 0.],\n",
      "        [0., 1., 0.],\n",
      "        [1., 0., 0.]])\n"
     ]
    }
   ],
   "source": [
    "for x, y in dataloader:\n",
    "    print(x)\n",
    "    print(y)\n",
    "    break"
   ]
  },
  {
   "cell_type": "code",
   "execution_count": null,
   "metadata": {},
   "outputs": [],
   "source": []
  }
 ],
 "metadata": {
  "kernelspec": {
   "display_name": "Python 3",
   "language": "python",
   "name": "python3"
  },
  "language_info": {
   "codemirror_mode": {
    "name": "ipython",
    "version": 3
   },
   "file_extension": ".py",
   "mimetype": "text/x-python",
   "name": "python",
   "nbconvert_exporter": "python",
   "pygments_lexer": "ipython3",
   "version": "3.6.12"
  }
 },
 "nbformat": 4,
 "nbformat_minor": 2
}
