{
 "cells": [
  {
   "cell_type": "markdown",
   "metadata": {},
   "source": [
    "# Tensors\n",
    "Where the magic begins!"
   ]
  },
  {
   "cell_type": "code",
   "execution_count": 1,
   "metadata": {},
   "outputs": [
    {
     "data": {
      "text/plain": [
       "'PyTorch v1.5.0, GPU: True'"
      ]
     },
     "execution_count": 1,
     "metadata": {},
     "output_type": "execute_result"
    }
   ],
   "source": [
    "import torch\n",
    "f'PyTorch v{torch.__version__}, GPU: {torch.cuda.is_available()}'"
   ]
  },
  {
   "cell_type": "code",
   "execution_count": 2,
   "metadata": {},
   "outputs": [
    {
     "name": "stdout",
     "output_type": "stream",
     "text": [
      "tensor([[169.,  87., 152.],\n",
      "        [206., 230.,  45.],\n",
      "        [153.,  45., 234.]]) \n",
      " tensor([[0.9513, 0.5990, 0.6199],\n",
      "        [0.2686, 0.2300, 0.8880],\n",
      "        [0.6376, 0.8068, 0.6938]])\n"
     ]
    }
   ],
   "source": [
    "x = torch.randint(255, (3, 3), dtype=torch.float)\n",
    "y = torch.rand(3, 3)\n",
    "print(x, '\\n', y)"
   ]
  },
  {
   "cell_type": "code",
   "execution_count": 3,
   "metadata": {},
   "outputs": [
    {
     "data": {
      "text/plain": [
       "tensor([[169.9513,  87.5990, 152.6199],\n",
       "        [206.2686, 230.2300,  45.8880],\n",
       "        [153.6376,  45.8068, 234.6938]])"
      ]
     },
     "execution_count": 3,
     "metadata": {},
     "output_type": "execute_result"
    }
   ],
   "source": [
    "x.add_(y)\n",
    "x"
   ]
  },
  {
   "cell_type": "markdown",
   "metadata": {},
   "source": [
    "# Make our nine squares"
   ]
  },
  {
   "cell_type": "code",
   "execution_count": 4,
   "metadata": {},
   "outputs": [
    {
     "data": {
      "text/plain": [
       "tensor([[[218., 235., 152.],\n",
       "         [ 20., 238.,   8.],\n",
       "         [ 18., 132., 108.]],\n",
       "\n",
       "        [[147., 103., 202.],\n",
       "         [201., 175.,  10.],\n",
       "         [184., 169., 202.]],\n",
       "\n",
       "        [[127.,  68., 194.],\n",
       "         [246.,  35., 114.],\n",
       "         [169., 173.,  83.]],\n",
       "\n",
       "        ...,\n",
       "\n",
       "        [[123., 198., 132.],\n",
       "         [164., 193., 241.],\n",
       "         [120., 145., 121.]],\n",
       "\n",
       "        [[ 12.,  26.,  73.],\n",
       "         [ 45., 233.,  15.],\n",
       "         [ 85., 156.,  22.]],\n",
       "\n",
       "        [[ 92.,   3.,  82.],\n",
       "         [ 21.,  35., 209.],\n",
       "         [ 39., 214., 201.]]])"
      ]
     },
     "execution_count": 4,
     "metadata": {},
     "output_type": "execute_result"
    }
   ],
   "source": [
    "X = torch.randint(255, (400, 3, 3), dtype=torch.float)\n",
    "X"
   ]
  },
  {
   "cell_type": "code",
   "execution_count": 5,
   "metadata": {},
   "outputs": [
    {
     "data": {
      "text/plain": [
       "tensor([[218., 235., 152.,  ...,  18., 132., 108.],\n",
       "        [147., 103., 202.,  ..., 184., 169., 202.],\n",
       "        [127.,  68., 194.,  ..., 169., 173.,  83.],\n",
       "        ...,\n",
       "        [123., 198., 132.,  ..., 120., 145., 121.],\n",
       "        [ 12.,  26.,  73.,  ...,  85., 156.,  22.],\n",
       "        [ 92.,   3.,  82.,  ...,  39., 214., 201.]])"
      ]
     },
     "execution_count": 5,
     "metadata": {},
     "output_type": "execute_result"
    }
   ],
   "source": [
    "X = X.view(-1, 9)\n",
    "X"
   ]
  },
  {
   "cell_type": "code",
   "execution_count": 6,
   "metadata": {},
   "outputs": [
    {
     "data": {
      "text/plain": [
       "tensor([[605., 266., 258.],\n",
       "        [452., 386., 555.],\n",
       "        [389., 395., 425.],\n",
       "        ...,\n",
       "        [453., 598., 386.],\n",
       "        [111., 293., 263.],\n",
       "        [177., 265., 454.]])"
      ]
     },
     "execution_count": 6,
     "metadata": {},
     "output_type": "execute_result"
    }
   ],
   "source": [
    "w = [[1, 1, 1, 0, 0, 0, 0, 0, 0], \n",
    "     [0, 0, 0, 1, 1, 1, 0, 0, 0], \n",
    "     [0, 0, 0, 0, 0, 0, 1, 1, 1]]\n",
    "\n",
    "magic_w = torch.tensor(w, dtype=torch.float)\n",
    "X.mm(magic_w.t())"
   ]
  },
  {
   "cell_type": "code",
   "execution_count": 7,
   "metadata": {},
   "outputs": [
    {
     "data": {
      "text/plain": [
       "tensor([0, 2, 2, 0, 0, 1, 2, 2, 2, 0, 0, 0, 0, 0, 0, 0, 1, 2, 0, 1, 2, 2, 0, 1,\n",
       "        1, 1, 0, 1, 0, 1, 2, 0, 2, 2, 1, 1, 0, 1, 2, 2, 1, 2, 2, 2, 1, 1, 2, 0,\n",
       "        1, 0, 1, 1, 2, 0, 2, 1, 2, 1, 0, 2, 1, 1, 0, 2, 2, 1, 1, 2, 2, 1, 1, 2,\n",
       "        1, 1, 0, 0, 0, 0, 2, 2, 1, 0, 2, 1, 0, 2, 2, 0, 0, 0, 2, 1, 0, 2, 0, 1,\n",
       "        1, 1, 0, 2, 0, 0, 2, 1, 1, 1, 2, 0, 2, 2, 0, 0, 0, 2, 1, 0, 0, 2, 1, 1,\n",
       "        2, 2, 2, 1, 2, 1, 2, 0, 1, 2, 1, 0, 0, 0, 2, 1, 1, 2, 2, 1, 1, 0, 2, 0,\n",
       "        1, 1, 1, 0, 1, 1, 2, 0, 0, 0, 2, 1, 0, 1, 2, 0, 2, 1, 0, 0, 0, 1, 2, 0,\n",
       "        2, 1, 0, 0, 0, 2, 0, 1, 1, 1, 1, 1, 0, 1, 2, 2, 2, 2, 2, 0, 0, 0, 1, 1,\n",
       "        1, 2, 1, 0, 2, 1, 0, 1, 0, 1, 0, 1, 1, 2, 2, 2, 0, 0, 1, 2, 1, 1, 0, 0,\n",
       "        0, 2, 2, 2, 1, 1, 2, 0, 2, 0, 1, 1, 0, 1, 1, 2, 2, 1, 1, 1, 2, 1, 0, 1,\n",
       "        2, 1, 0, 1, 1, 0, 1, 0, 0, 1, 1, 2, 1, 2, 2, 1, 2, 0, 0, 2, 2, 1, 1, 2,\n",
       "        2, 0, 0, 2, 2, 1, 2, 0, 0, 2, 1, 2, 0, 0, 1, 0, 2, 1, 2, 0, 0, 2, 0, 0,\n",
       "        2, 2, 2, 1, 1, 2, 2, 1, 2, 2, 0, 2, 0, 2, 2, 0, 0, 1, 0, 1, 0, 2, 2, 1,\n",
       "        0, 2, 1, 0, 0, 0, 1, 0, 0, 2, 1, 1, 2, 1, 0, 2, 2, 1, 1, 1, 1, 0, 1, 1,\n",
       "        1, 2, 0, 0, 2, 1, 1, 0, 1, 1, 1, 2, 2, 1, 1, 2, 1, 1, 2, 0, 2, 1, 1, 1,\n",
       "        2, 0, 0, 0, 1, 1, 1, 2, 1, 0, 0, 2, 0, 1, 1, 0, 2, 0, 0, 1, 2, 2, 0, 1,\n",
       "        2, 0, 2, 2, 2, 0, 1, 2, 1, 1, 2, 1, 2, 1, 1, 2])"
      ]
     },
     "execution_count": 7,
     "metadata": {},
     "output_type": "execute_result"
    }
   ],
   "source": [
    "y = torch.argmax(X.mm(magic_w.t()), 1)\n",
    "y"
   ]
  },
  {
   "cell_type": "code",
   "execution_count": 8,
   "metadata": {},
   "outputs": [
    {
     "data": {
      "text/plain": [
       "tensor([[1., 0., 0.],\n",
       "        [0., 0., 1.],\n",
       "        [0., 0., 1.],\n",
       "        ...,\n",
       "        [0., 1., 0.],\n",
       "        [0., 1., 0.],\n",
       "        [0., 0., 1.]])"
      ]
     },
     "execution_count": 8,
     "metadata": {},
     "output_type": "execute_result"
    }
   ],
   "source": [
    "\n",
    "y = torch.zeros(400, 3, dtype=torch.float).scatter_(1, y.view(-1, 1), value=1)\n",
    "y"
   ]
  },
  {
   "cell_type": "code",
   "execution_count": 9,
   "metadata": {},
   "outputs": [
    {
     "data": {
      "image/png": "[encoded data removed]",
      "text/plain": [
       "<Figure size 1296x504 with 120 Axes>"
      ]
     },
     "metadata": {},
     "output_type": "display_data"
    }
   ],
   "source": [
    "from utils.draw import draw_xy\n",
    "draw_xy(X, y)"
   ]
  },
  {
   "cell_type": "code",
   "execution_count": null,
   "metadata": {},
   "outputs": [],
   "source": []
  }
 ],
 "metadata": {
  "kernelspec": {
   "display_name": "Python 3",
   "language": "python",
   "name": "python3"
  },
  "language_info": {
   "codemirror_mode": {
    "name": "ipython",
    "version": 3
   },
   "file_extension": ".py",
   "mimetype": "text/x-python",
   "name": "python",
   "nbconvert_exporter": "python",
   "pygments_lexer": "ipython3",
   "version": "3.6.12"
  }
 },
 "nbformat": 4,
 "nbformat_minor": 2
}
